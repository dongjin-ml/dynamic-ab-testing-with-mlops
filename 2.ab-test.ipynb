{
 "cells": [
  {
   "cell_type": "markdown",
   "id": "7734bd6a-3057-4c9e-b20d-161e81a278f5",
   "metadata": {},
   "source": [
    "## AutoReload"
   ]
  },
  {
   "cell_type": "code",
   "execution_count": 1,
   "id": "63c92c58-b5fd-4bff-bfb2-6c8d0ed81dde",
   "metadata": {},
   "outputs": [],
   "source": [
    "%load_ext autoreload\n",
    "%autoreload 2"
   ]
  },
  {
   "cell_type": "markdown",
   "id": "f5913c71-48e8-4706-af4f-5a182236429e",
   "metadata": {},
   "source": [
    "## 0. parameter store"
   ]
  },
  {
   "cell_type": "code",
   "execution_count": 2,
   "id": "dbb06cf4-29bb-4ae5-8e2e-8277aa96174a",
   "metadata": {},
   "outputs": [],
   "source": [
    "import boto3\n",
    "from utils.ssm import parameter_store"
   ]
  },
  {
   "cell_type": "code",
   "execution_count": 3,
   "id": "88fd4a82-6cc8-4b39-bc7b-b3e55364233e",
   "metadata": {},
   "outputs": [],
   "source": [
    "strRegionName=boto3.Session().region_name\n",
    "pm = parameter_store(strRegionName)"
   ]
  },
  {
   "cell_type": "markdown",
   "id": "d9a6d439-888f-4ff1-b091-f08c5e06898d",
   "metadata": {},
   "source": [
    "## 1. Set DynamoDB"
   ]
  },
  {
   "cell_type": "code",
   "execution_count": 4,
   "id": "70b82cb0-0736-4adf-ae90-19486c9ab5f7",
   "metadata": {},
   "outputs": [],
   "source": [
    "from utils.ddb import ddb_constructor"
   ]
  },
  {
   "cell_type": "code",
   "execution_count": 5,
   "id": "6362e01e-88c1-46a3-90ea-39fcf8f99a95",
   "metadata": {},
   "outputs": [],
   "source": [
    "ddb_construction = ddb_constructor(region_name=pm.get_params(key=\"DAT-REGION\"))"
   ]
  },
  {
   "cell_type": "markdown",
   "id": "1264dc30-e101-4a91-862c-123bc2fa0756",
   "metadata": {},
   "source": [
    "### 1.1 Create table: assignmnet"
   ]
  },
  {
   "cell_type": "code",
   "execution_count": 6,
   "id": "27d35e0e-67cc-4a9a-b83d-57246514585f",
   "metadata": {},
   "outputs": [
    {
     "name": "stdout",
     "output_type": "stream",
     "text": [
      "dynamodb.Table(name='DAT-assignment') was created!!\n"
     ]
    }
   ],
   "source": [
    "ddb_construction.create_table(\n",
    "    AttributeDefinitions=[\n",
    "        {'AttributeName': 'user_id', 'AttributeType': 'S'}, # 'S'|'N'|'B' \n",
    "    ],\n",
    "    TableName='DAT-assignment',\n",
    "    KeySchema=[\n",
    "        {'AttributeName': 'user_id', 'KeyType': 'HASH'}, # 'HASH'(partition)|'RANGE'(sort)\n",
    "    ],\n",
    "    BillingMode='PAY_PER_REQUEST',# 'PROVISIONED'|'PAY_PER_REQUEST'('ProvisionedThroughput' requried),  \n",
    ")"
   ]
  },
  {
   "cell_type": "markdown",
   "id": "03a0aeff-bd6b-448f-b2a5-03f209f41618",
   "metadata": {},
   "source": [
    "### 3.2 Table create: metric"
   ]
  },
  {
   "cell_type": "code",
   "execution_count": 7,
   "id": "b3192b1b-40ec-404a-a791-73ae2cdeb3e2",
   "metadata": {},
   "outputs": [
    {
     "name": "stdout",
     "output_type": "stream",
     "text": [
      "dynamodb.Table(name='DAT-metric') was created!!\n"
     ]
    }
   ],
   "source": [
    "ddb_construction.create_table(\n",
    "    AttributeDefinitions=[\n",
    "        {'AttributeName': 'variant_name', 'AttributeType': 'S'}, # 'S'|'N'|'B' \n",
    "    ],\n",
    "    TableName='DAT-metric',\n",
    "    KeySchema=[\n",
    "        {'AttributeName': 'variant_name', 'KeyType': 'HASH'}, # 'HASH'(partition)|'RANGE'(sort)\n",
    "    ],\n",
    "    BillingMode='PAY_PER_REQUEST',# 'PROVISIONED'|'PAY_PER_REQUEST'('ProvisionedThroughput' requried),\n",
    ")"
   ]
  },
  {
   "cell_type": "markdown",
   "id": "b1b8d791-fa00-4e91-8928-ce11b5793214",
   "metadata": {},
   "source": [
    "### 3.3 Table create: helpful_reviews"
   ]
  },
  {
   "cell_type": "code",
   "execution_count": 8,
   "id": "91464706-e40b-4f71-a56f-6f89b8b817e3",
   "metadata": {},
   "outputs": [
    {
     "name": "stdout",
     "output_type": "stream",
     "text": [
      "dynamodb.Table(name='DAT-helpful-reviews') was created!!\n"
     ]
    }
   ],
   "source": [
    "ddb_construction.create_table(    \n",
    "    AttributeDefinitions=[\n",
    "        {'AttributeName': 'product_id', 'AttributeType': 'S'}, # 'S'|'N'|'B' \n",
    "        {'AttributeName': 'variant_name', 'AttributeType': 'S'}, # 'S'|'N'|'B' \n",
    "    ],\n",
    "    TableName='DAT-helpful-reviews',\n",
    "    KeySchema=[\n",
    "        {'AttributeName': 'product_id', 'KeyType': 'HASH'}, # 'HASH'(partition)|'RANGE'(sort)\n",
    "        {'AttributeName': 'variant_name', 'KeyType': 'RANGE'} # In the sort key, only \"RANGE\" of Key type is available \n",
    "    ],\n",
    "    BillingMode='PAY_PER_REQUEST',# 'PROVISIONED'|'PAY_PER_REQUEST'('ProvisionedThroughput' requried),\n",
    ")"
   ]
  },
  {
   "cell_type": "markdown",
   "id": "8840ff3b-1af2-474c-8520-a97d85cc9804",
   "metadata": {},
   "source": [
    "### 3.4 Table create: metric-visualization"
   ]
  },
  {
   "cell_type": "code",
   "execution_count": 9,
   "id": "2453319f-74f2-49cc-8352-c820312749e3",
   "metadata": {},
   "outputs": [
    {
     "name": "stdout",
     "output_type": "stream",
     "text": [
      "dynamodb.Table(name='DAT-metric-visualization') was created!!\n"
     ]
    }
   ],
   "source": [
    "ddb_construction.create_table(\n",
    "    AttributeDefinitions=[\n",
    "        {'AttributeName': 'time_stamp', 'AttributeType': 'S'}, # 'S'|'N'|'B'\n",
    "        {'AttributeName': 'variant_name', 'AttributeType': 'S'}, # 'S'|'N'|'B' \n",
    "    ],\n",
    "    TableName='DAT-metric-visualization',\n",
    "    KeySchema=[\n",
    "        {'AttributeName': 'time_stamp', 'KeyType': 'HASH'}, # 'HASH'(partition)|'RANGE'(sort)\n",
    "        {'AttributeName': 'variant_name', 'KeyType': 'RANGE'}, # In the sort key, only \"RANGE\" of Key type is available \n",
    "    ],\n",
    "    BillingMode='PAY_PER_REQUEST',# 'PROVISIONED'|'PAY_PER_REQUEST'('ProvisionedThroughput' requried),\n",
    "    #ProvisionedThroughput={\n",
    "    #    'ReadCapacityUnits': 123,\n",
    "    #    'WriteCapacityUnits': 123\n",
    "    #},\n",
    ")"
   ]
  },
  {
   "cell_type": "markdown",
   "id": "e5fe3ac1-0ccd-4377-979c-6be81182aaf2",
   "metadata": {},
   "source": [
    "## 2. Set Labmda"
   ]
  },
  {
   "cell_type": "code",
   "execution_count": 10,
   "id": "cab7ea1a-a717-42d4-b3fe-c0e6c655a6d3",
   "metadata": {},
   "outputs": [],
   "source": [
    "import shutil\n",
    "import zipfile\n",
    "import tempfile\n",
    "from utils.lambda_func import lambda_handler"
   ]
  },
  {
   "cell_type": "code",
   "execution_count": 11,
   "id": "9b249276-7067-4657-982c-fd54b41ea03b",
   "metadata": {},
   "outputs": [],
   "source": [
    "lam_handler = lambda_handler(region_name=pm.get_params(key=\"DAT-REGION\"))"
   ]
  },
  {
   "cell_type": "code",
   "execution_count": 12,
   "id": "c0ffa905-bf39-4b49-9ad5-7b0a530b615b",
   "metadata": {},
   "outputs": [],
   "source": [
    "strLambdaRoleArn = pm.get_params(key=\"DAT-LAMBDA-ROLE-ARN\")\n",
    "strLambdaFuncName = \"DAT-Lambda-MAB\"\n",
    "strLambdaSrcDir = \"./ab-test/lambda\"\n",
    "strLambdaHandler = \"ab_test_with_mab.lambda_handler\""
   ]
  },
  {
   "cell_type": "code",
   "execution_count": 18,
   "id": "2803dc5d-1e4f-4534-8abc-523cb2faa2fd",
   "metadata": {},
   "outputs": [
    {
     "name": "stdout",
     "output_type": "stream",
     "text": [
      "== CREATE ROLE ==\n",
      "Argments for lambda below:\n",
      "\n",
      "{'Architectures': ['x86_64'],\n",
      " 'CodeSha256': 'o/k9oxtnu/R6ve086hQajCrOGJ/AZIOO0jzp7HKVq9I=',\n",
      " 'CodeSize': 9488,\n",
      " 'Description': 'Process A/B Testing with MAB.',\n",
      " 'Environment': {'Variables': {'DDB_ASSIGNMENT': 'DAT-assignment',\n",
      "                               'DDB_HELPFUL_REVIEWS': 'DAT-helpful-reviews',\n",
      "                               'DDB_METRIC': 'DAT-metric',\n",
      "                               'DDB_METRIC_VISUALIZATION': 'DAT-metric-visualization',\n",
      "                               'MODEL_ENDPOINT': 'helpfulness-detector-endpoint-2022-12-02-06-58-09',\n",
      "                               'REGION': 'ap-northeast-2',\n",
      "                               'WARM_CNT': '150'}},\n",
      " 'EphemeralStorage': {'Size': 512},\n",
      " 'FunctionArn': 'arn:aws:lambda:ap-northeast-2:419974056037:function:DAT-Lambda-MAB',\n",
      " 'FunctionName': 'DAT-Lambda-MAB',\n",
      " 'Handler': 'ab_test_with_mab.lambda_handler',\n",
      " 'LastModified': '2022-12-02T07:05:51.412+0000',\n",
      " 'MemorySize': 128,\n",
      " 'PackageType': 'Zip',\n",
      " 'ResponseMetadata': {'HTTPHeaders': {'connection': 'keep-alive',\n",
      "                                      'content-length': '1308',\n",
      "                                      'content-type': 'application/json',\n",
      "                                      'date': 'Fri, 02 Dec 2022 07:05:51 GMT',\n",
      "                                      'x-amzn-requestid': 'ec426b2d-f565-4d3b-a472-503d16991b52'},\n",
      "                      'HTTPStatusCode': 201,\n",
      "                      'RequestId': 'ec426b2d-f565-4d3b-a472-503d16991b52',\n",
      "                      'RetryAttempts': 0},\n",
      " 'RevisionId': '2c20e2b2-4969-446f-9511-05a7bd996454',\n",
      " 'Role': 'arn:aws:iam::419974056037:role/DAT-LabmdaRole',\n",
      " 'Runtime': 'python3.8',\n",
      " 'State': 'Pending',\n",
      " 'StateReason': 'The function is being created.',\n",
      " 'StateReasonCode': 'Creating',\n",
      " 'Timeout': 3,\n",
      " 'TracingConfig': {'Mode': 'PassThrough'},\n",
      " 'Version': '36'}\n",
      "\n",
      "  lambda function: [DAT-Lambda-MAB] is created successfully\n",
      "== COMPLETED ==\n",
      "LambdaArn: arn:aws:lambda:ap-northeast-2:419974056037:function:DAT-Lambda-MAB\n"
     ]
    }
   ],
   "source": [
    "with tempfile.TemporaryDirectory() as tempDirPath:\n",
    "    \n",
    "    lambda_archive_path = shutil.make_archive(\n",
    "        base_name=tempDirPath,\n",
    "        format=\"zip\",\n",
    "        root_dir=strLambdaSrcDir,\n",
    "    )\n",
    "    \n",
    "    with open(lambda_archive_path, 'rb') as f: zipped_code = f.read()\n",
    "    \n",
    "    strLambdaArn = lam_handler.create_function(\n",
    "        Code=dict(ZipFile=zipped_code),\n",
    "        Description='Process A/B Testing with MAB.',\n",
    "        Environment={\n",
    "           'Variables': {\n",
    "               'DDB_ASSIGNMENT': \"DAT-assignment\",\n",
    "               'DDB_METRIC': \"DAT-metric\",\n",
    "               'DDB_METRIC_VISUALIZATION': \"DAT-metric-visualization\",\n",
    "               'DDB_HELPFUL_REVIEWS': \"DAT-helpful-reviews\",\n",
    "               'REGION':pm.get_params(key=\"DAT-REGION\"),\n",
    "               'MODEL_ENDPOINT':pm.get_params(key=\"DAT-MODEL-ENDPIONT-NAME\"),\n",
    "               'WARM_CNT':\"150\",\n",
    "           },\n",
    "        },\n",
    "        FunctionName=strLambdaFuncName,\n",
    "        Handler=strLambdaHandler,\n",
    "        Publish=True,\n",
    "        Role=strLambdaRoleArn,\n",
    "        Runtime='python3.8',\n",
    "    )\n",
    "    \n",
    "print (f\"LambdaArn: {strLambdaArn}\")"
   ]
  },
  {
   "cell_type": "markdown",
   "id": "c6e3d712-8231-4784-8e17-b98de3f75e18",
   "metadata": {},
   "source": [
    "## 3. Set API-Gateway with Lambda"
   ]
  },
  {
   "cell_type": "code",
   "execution_count": 19,
   "id": "524fb374-7c2b-474e-ae3b-365bf3fcd047",
   "metadata": {},
   "outputs": [],
   "source": [
    "from utils.api_gateway import api_gateway_handler"
   ]
  },
  {
   "cell_type": "code",
   "execution_count": 20,
   "id": "c0642b35-c4d4-47bf-9035-d40147228556",
   "metadata": {},
   "outputs": [],
   "source": [
    "strAccountId = pm.get_params(key=\"DAT-ACCOUNT-ID\")\n",
    "strApiName = \"DAT-api-gateway\"\n",
    "strApiDesc = \"api-gatway for A/B Testing with MAB\"\n",
    "strApiBasePath = \"dat-api\"\n",
    "strApiStage = \"dev\"\n",
    "strLambdaFuncArn = strLambdaArn\n",
    "apig = api_gateway_handler(pm.get_params(key=\"DAT-REGION\"))"
   ]
  },
  {
   "cell_type": "code",
   "execution_count": 21,
   "id": "dd830585-ea0e-4e87-9b90-9b75b10967bb",
   "metadata": {},
   "outputs": [
    {
     "name": "stdout",
     "output_type": "stream",
     "text": [
      "Creating Amazon API Gateway REST API DAT-api-gateway...\n",
      "so arn:aws:execute-api:ap-northeast-2:419974056037:m07tmppemg/*/*/dat-api\n",
      "REST API created, URL is :\n",
      "\thttps://m07tmppemg.execute-api.ap-northeast-2.amazonaws.com/dev/dat-api\n",
      "Sleeping for a couple seconds to give AWS time to prepare...\n"
     ]
    },
    {
     "data": {
      "text/plain": [
       "'Store suceess'"
      ]
     },
     "execution_count": 21,
     "metadata": {},
     "output_type": "execute_result"
    }
   ],
   "source": [
    "strApiUrl = apig.create_rest_api_with_lambda(\n",
    "    api_name=strApiName,\n",
    "    api_description=strApiDesc,\n",
    "    api_base_path=strApiBasePath,\n",
    "    api_stage=strApiStage,\n",
    "    account_id=strAccountId,\n",
    "    lambda_function_arn=strLambdaFuncArn\n",
    ")\n",
    "pm.put_params(key=\"DAT-API-URL\", value=strApiUrl.encode('utf-8'), overwrite=True)"
   ]
  },
  {
   "cell_type": "code",
   "execution_count": 22,
   "id": "b223e88d-eaab-4e9b-bf3b-195d95a34d25",
   "metadata": {},
   "outputs": [
    {
     "name": "stderr",
     "output_type": "stream",
     "text": [
      "\n",
      "Error parsing parameter '--value': Unable to retrieve https://m07tmppemg.execute-api.ap-northeast-2.amazonaws.com/dev/dat-api: received non 200 status code of 403\n"
     ]
    },
    {
     "data": {
      "text/plain": [
       "'Error'"
      ]
     },
     "execution_count": 22,
     "metadata": {},
     "output_type": "execute_result"
    }
   ],
   "source": [
    "pm.put_params(key=\"DAT-API-URL\", value=strApiUrl, overwrite=True)"
   ]
  },
  {
   "cell_type": "code",
   "execution_count": null,
   "id": "fdc222ee-e9aa-4815-b866-649f64f81c2a",
   "metadata": {},
   "outputs": [],
   "source": []
  }
 ],
 "metadata": {
  "kernelspec": {
   "display_name": "conda_python3",
   "language": "python",
   "name": "conda_python3"
  },
  "language_info": {
   "codemirror_mode": {
    "name": "ipython",
    "version": 3
   },
   "file_extension": ".py",
   "mimetype": "text/x-python",
   "name": "python",
   "nbconvert_exporter": "python",
   "pygments_lexer": "ipython3",
   "version": "3.8.12"
  }
 },
 "nbformat": 4,
 "nbformat_minor": 5
}
